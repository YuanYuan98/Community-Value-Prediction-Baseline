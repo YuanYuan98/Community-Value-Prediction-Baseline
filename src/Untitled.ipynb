{
 "cells": [
  {
   "cell_type": "code",
   "execution_count": 17,
   "metadata": {},
   "outputs": [],
   "source": [
    "import numpy as np\n",
    "import networkx as nx"
   ]
  },
  {
   "cell_type": "code",
   "execution_count": 3,
   "metadata": {},
   "outputs": [],
   "source": [
    "data = np.load('sample2_dataset_rf.npy',allow_pickle=True)\n",
    "x = data[:,:-1]\n",
    "y = data[:,-1]"
   ]
  },
  {
   "cell_type": "code",
   "execution_count": 8,
   "metadata": {},
   "outputs": [],
   "source": [
    "\n",
    "path2 = '../data/sample2_dataset_unc_norm.npy'"
   ]
  },
  {
   "cell_type": "code",
   "execution_count": 9,
   "metadata": {},
   "outputs": [],
   "source": [
    "\n",
    "feature_matrix, adj_matrix, edge_attr, label_matrix, community_partition_index = np.load(path2,allow_pickle=True)\n"
   ]
  },
  {
   "cell_type": "code",
   "execution_count": null,
   "metadata": {},
   "outputs": [],
   "source": []
  },
  {
   "cell_type": "code",
   "execution_count": 18,
   "metadata": {},
   "outputs": [],
   "source": [
    "def network_analysis(nodes, edges):\n",
    "    '''\n",
    "    计算每个节点对应的特征(num_triangles, ave_clustering_coef, degree_centrality)，返回array\n",
    "    '''\n",
    "    graph = nx.Graph()\n",
    "    graph.add_nodes_from(nodes)\n",
    "    graph.add_edges_from(edges)\n",
    "\n",
    "    tri = nx.algorithms.cluster.triangles(graph).values()\n",
    "    tri = sum(list(tri))/3\n",
    "    ave_clustering_coef = nx.algorithms.cluster.average_clustering(graph)\n",
    "    degree_cen = nx.algorithms.centrality.degree_centrality(graph).values()\n",
    "    degree_cen = np.array(list(degree_cen))\n",
    "    degree_cen = np.sum(1 - degree_cen)\n",
    "    num_nodes = graph.number_of_nodes()\n",
    "    degree_cen = degree_cen*(num_nodes-1)/(num_nodes*(num_nodes-2))\n",
    "\n",
    "    return tri, degree_cen, ave_clustering_coef, num_nodes\n"
   ]
  },
  {
   "cell_type": "code",
   "execution_count": 19,
   "metadata": {},
   "outputs": [],
   "source": [
    "def graph_pooling(x,nodes):\n",
    "    result = []\n",
    "    for i in adj_matrix:\n",
    "        if i[0] in nodes and i[1] in nodes:\n",
    "            result.append(i)\n",
    "    return nodes,result\n",
    "\n",
    "cluster = []\n",
    "cen = []\n",
    "for i in community_partition_index:\n",
    "    nodes,edges = graph_pooling(i,community_partition_index[i])\n",
    "    tri, degree_cen, ave_clustering_coef, num_nodes = network_analysis(nodes,edges)\n",
    "    cluster.append(ave_clustering_coef)\n",
    "    cen.append(degree_cen)"
   ]
  },
  {
   "cell_type": "code",
   "execution_count": null,
   "metadata": {},
   "outputs": [],
   "source": []
  },
  {
   "cell_type": "code",
   "execution_count": 20,
   "metadata": {},
   "outputs": [
    {
     "name": "stdout",
     "output_type": "stream",
     "text": [
      "0.26675952349511095 0.9678592270002059\n"
     ]
    }
   ],
   "source": [
    "print(sum(cluster)/len(cluster),sum(cen)/len(cen))"
   ]
  },
  {
   "cell_type": "code",
   "execution_count": 46,
   "metadata": {},
   "outputs": [],
   "source": [
    "# import csv\n",
    "# with open('edgelist.csv', 'w', newline='') as csvfile:\n",
    "#     writer  = csv.writer(csvfile,delimiter=' ')\n",
    "#     for row in d[1]:\n",
    "#         writer.writerow(row)"
   ]
  },
  {
   "cell_type": "code",
   "execution_count": 9,
   "metadata": {},
   "outputs": [],
   "source": [
    "# feature+embedding\n",
    "d = np.load('sample2_dataset_unc_norm.npy',allow_pickle=True)\n",
    "feature = d[0]\n",
    "fp = open('node20.embeddings')\n",
    "content = fp.readlines()\n",
    "data = content[1:]\n",
    "for index,x in enumerate(data):\n",
    "    data[index] = x[:-1].split(' ')\n",
    "    data[index] = list(map(float,data[index]))\n",
    "    data[index] = [int(data[index][0]),data[index][1:]]\n",
    "result = feature\n",
    "for i in data:\n",
    "    result[i[0]] = i[1]\n",
    "result = np.array(result)\n",
    "np.save('feature_embedding20.npy',result)"
   ]
  },
  {
   "cell_type": "code",
   "execution_count": 10,
   "metadata": {},
   "outputs": [
    {
     "data": {
      "text/plain": [
       "(76649, 20)"
      ]
     },
     "execution_count": 10,
     "metadata": {},
     "output_type": "execute_result"
    }
   ],
   "source": [
    "result.shape"
   ]
  },
  {
   "cell_type": "code",
   "execution_count": 5,
   "metadata": {},
   "outputs": [
    {
     "data": {
      "text/plain": [
       "array([ 1.00000000e+00,  0.00000000e+00,  1.00000000e+00,  1.00000000e+00,\n",
       "        6.08108108e-01,  3.33333333e-01,  5.77294686e-01,  4.51693852e-01,\n",
       "        6.64961637e-02,  5.77915377e-02,  2.38704177e-02,  1.30120698e-03,\n",
       "        6.99959618e-03,  1.82168977e-02,  4.41961682e-03,  8.18863014e-03,\n",
       "        1.11499978e-02,  1.00731368e-02,  6.50603491e-04,  2.96136761e-03,\n",
       "        1.37823834e-01, -5.24979300e-01,  4.68232150e-01,  1.96021590e-01,\n",
       "        7.81970800e-02,  8.47345400e-01, -1.10145630e+00, -8.82854300e-01,\n",
       "        9.41193300e-01,  1.85783680e+00, -1.17866980e+00,  6.38812400e-01,\n",
       "        5.99621830e-01, -6.85838940e-01,  1.18553840e+00, -3.87315900e-01,\n",
       "        1.40945260e+00,  6.94276500e-01,  1.05193890e-01, -1.06882670e+00,\n",
       "       -6.08320360e-01])"
      ]
     },
     "execution_count": 5,
     "metadata": {},
     "output_type": "execute_result"
    }
   ],
   "source": [
    "result[0]"
   ]
  },
  {
   "cell_type": "code",
   "execution_count": 2,
   "metadata": {},
   "outputs": [
    {
     "data": {
      "text/plain": [
       "['123', '234', '345']"
      ]
     },
     "execution_count": 2,
     "metadata": {},
     "output_type": "execute_result"
    }
   ],
   "source": [
    "a = ['123','234','345']\n",
    "eval(str(a))"
   ]
  },
  {
   "cell_type": "code",
   "execution_count": 7,
   "metadata": {},
   "outputs": [],
   "source": [
    "a = [1,2,3,4]\n",
    "b = [1,2,5,6,7]"
   ]
  },
  {
   "cell_type": "code",
   "execution_count": 8,
   "metadata": {},
   "outputs": [
    {
     "data": {
      "text/plain": [
       "{3, 4, 5, 6, 7}"
      ]
     },
     "execution_count": 8,
     "metadata": {},
     "output_type": "execute_result"
    }
   ],
   "source": [
    "set(a).difference(set(b)).union(set(b).difference(set(a)))"
   ]
  },
  {
   "cell_type": "code",
   "execution_count": null,
   "metadata": {},
   "outputs": [],
   "source": []
  }
 ],
 "metadata": {
  "kernelspec": {
   "display_name": "Python 3",
   "language": "python",
   "name": "python3"
  },
  "language_info": {
   "codemirror_mode": {
    "name": "ipython",
    "version": 3
   },
   "file_extension": ".py",
   "mimetype": "text/x-python",
   "name": "python",
   "nbconvert_exporter": "python",
   "pygments_lexer": "ipython3",
   "version": "3.7.0"
  }
 },
 "nbformat": 4,
 "nbformat_minor": 2
}
